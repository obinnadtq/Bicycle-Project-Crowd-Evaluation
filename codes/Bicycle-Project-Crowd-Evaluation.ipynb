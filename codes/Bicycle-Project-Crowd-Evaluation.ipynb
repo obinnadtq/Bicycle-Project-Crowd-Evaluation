{
 "cells": [
  {
   "cell_type": "markdown",
   "id": "3672d56c",
   "metadata": {},
   "source": [
    "# Importing necessary libraries"
   ]
  },
  {
   "cell_type": "code",
   "execution_count": 2,
   "id": "3675dd27",
   "metadata": {},
   "outputs": [],
   "source": [
    "import numpy as np\n",
    "import pandas as pd\n",
    "from numpy.random import randn\n",
    "from utils import *\n",
    "import matplotlib.pyplot as plt\n",
    "import seaborn as sns\n",
    "import re"
   ]
  },
  {
   "cell_type": "markdown",
   "id": "9960868b",
   "metadata": {},
   "source": [
    "# Importing data and overview "
   ]
  },
  {
   "cell_type": "markdown",
   "id": "817efa69",
   "metadata": {},
   "source": [
    "# Annotator responses data"
   ]
  },
  {
   "cell_type": "code",
   "execution_count": 5,
   "id": "955a11b5",
   "metadata": {},
   "outputs": [],
   "source": [
    "annotator_data = pd.read_json('../datasets/anonymized_project.json')"
   ]
  },
  {
   "cell_type": "code",
   "execution_count": 6,
   "id": "5d0cf998",
   "metadata": {},
   "outputs": [],
   "source": [
    "first_list_of_data = read_data_from_json(annotator_data, '7e8984b6-dff7-4015-865a-b721a2faf681')"
   ]
  },
  {
   "cell_type": "code",
   "execution_count": 7,
   "id": "c4275cb4",
   "metadata": {},
   "outputs": [],
   "source": [
    "second_list_of_data = read_data_from_json(annotator_data, '9d8a2527-accb-40bd-90d8-a73f20a609be')"
   ]
  },
  {
   "cell_type": "code",
   "execution_count": 8,
   "id": "a9457a0b",
   "metadata": {},
   "outputs": [],
   "source": [
    "combined_list_of_data = first_list_of_data + second_list_of_data"
   ]
  },
  {
   "cell_type": "markdown",
   "id": "f177810c",
   "metadata": {},
   "source": [
    "1a. Number of Annotators"
   ]
  },
  {
   "cell_type": "code",
   "execution_count": 9,
   "id": "d717f9a4",
   "metadata": {},
   "outputs": [],
   "source": [
    "user_data = pd.DataFrame(combined_list_of_data)['user']"
   ]
  },
  {
   "cell_type": "code",
   "execution_count": 10,
   "id": "a6284780",
   "metadata": {},
   "outputs": [
    {
     "data": {
      "text/plain": [
       "0     {'vendor_id': 'vendor_01', 'id': '08af8775-a72...\n",
       "1     {'vendor_id': 'vendor_01', 'id': '62f1cf90-71c...\n",
       "2     {'vendor_id': 'vendor_01', 'id': '780c974e-6ce...\n",
       "3     {'vendor_id': 'vendor_01', 'id': '94afdf79-917...\n",
       "4     {'vendor_id': 'vendor_01', 'id': '37a6036c-a9e...\n",
       "5     {'vendor_id': 'vendor_01', 'id': '66d63556-123...\n",
       "6     {'vendor_id': 'vendor_01', 'id': '62f1cf90-71c...\n",
       "7     {'vendor_id': 'vendor_01', 'id': '08af8775-a72...\n",
       "8     {'vendor_id': 'vendor_01', 'id': '75f1e1c8-d12...\n",
       "9     {'vendor_id': 'vendor_01', 'id': '0e606b41-ebe...\n",
       "10    {'vendor_id': 'vendor_01', 'id': '62f1cf90-71c...\n",
       "11    {'vendor_id': 'vendor_01', 'id': '5765cc32-9e3...\n",
       "12    {'vendor_id': 'vendor_01', 'id': 'e336139c-522...\n",
       "13    {'vendor_id': 'vendor_01', 'id': '780c974e-6ce...\n",
       "14    {'vendor_id': 'vendor_01', 'id': '0e606b41-ebe...\n",
       "15    {'vendor_id': 'vendor_01', 'id': '66d63556-123...\n",
       "16    {'vendor_id': 'vendor_01', 'id': '94afdf79-917...\n",
       "17    {'vendor_id': 'vendor_01', 'id': '2d521e66-c47...\n",
       "18    {'vendor_id': 'vendor_01', 'id': 'd40ae601-32b...\n",
       "19    {'vendor_id': 'vendor_01', 'id': '75f1e1c8-d12...\n",
       "Name: user, dtype: object"
      ]
     },
     "execution_count": 10,
     "metadata": {},
     "output_type": "execute_result"
    }
   ],
   "source": [
    "user_data"
   ]
  },
  {
   "cell_type": "code",
   "execution_count": 11,
   "id": "5027649d",
   "metadata": {},
   "outputs": [
    {
     "data": {
      "text/plain": [
       "12"
      ]
     },
     "execution_count": 11,
     "metadata": {},
     "output_type": "execute_result"
    }
   ],
   "source": [
    "list_of_annotators = []\n",
    "for i in range(0, len(user_data)):\n",
    "    list_of_annotators.append(user_data[i]['vendor_user_id'])\n",
    "\n",
    "# obtain the list of annotators. set method is used because some annotators appear more than once\n",
    "number_of_annotators = len(set(list_of_annotators))\n",
    "number_of_annotators  "
   ]
  },
  {
   "cell_type": "markdown",
   "id": "93c6b501",
   "metadata": {},
   "source": [
    "Answer: 12 annotators contributed to the dataset"
   ]
  },
  {
   "cell_type": "markdown",
   "id": "2e46051f",
   "metadata": {},
   "source": [
    "1b. Average, Minimum and Maximum annotation times"
   ]
  },
  {
   "cell_type": "code",
   "execution_count": 12,
   "id": "68c51438",
   "metadata": {},
   "outputs": [],
   "source": [
    "task_output_data = pd.DataFrame(combined_list_of_data)['task_output']"
   ]
  },
  {
   "cell_type": "code",
   "execution_count": 13,
   "id": "6d15469c",
   "metadata": {},
   "outputs": [
    {
     "data": {
      "text/plain": [
       "0     {'answer': 'no', 'cant_solve': False, 'corrupt...\n",
       "1     {'answer': 'no', 'cant_solve': False, 'corrupt...\n",
       "2     {'answer': 'no', 'cant_solve': False, 'corrupt...\n",
       "3     {'answer': 'no', 'cant_solve': False, 'corrupt...\n",
       "4     {'answer': 'no', 'cant_solve': False, 'corrupt...\n",
       "5     {'answer': 'no', 'cant_solve': False, 'corrupt...\n",
       "6     {'answer': 'no', 'cant_solve': False, 'corrupt...\n",
       "7     {'answer': 'no', 'cant_solve': False, 'corrupt...\n",
       "8     {'answer': 'no', 'cant_solve': False, 'corrupt...\n",
       "9     {'answer': 'no', 'cant_solve': False, 'corrupt...\n",
       "10    {'answer': 'yes', 'cant_solve': False, 'corrup...\n",
       "11    {'answer': 'yes', 'cant_solve': False, 'corrup...\n",
       "12    {'answer': 'yes', 'cant_solve': False, 'corrup...\n",
       "13    {'answer': 'yes', 'cant_solve': False, 'corrup...\n",
       "14    {'answer': 'yes', 'cant_solve': False, 'corrup...\n",
       "15    {'answer': 'yes', 'cant_solve': False, 'corrup...\n",
       "16    {'answer': 'yes', 'cant_solve': False, 'corrup...\n",
       "17    {'answer': 'yes', 'cant_solve': False, 'corrup...\n",
       "18    {'answer': 'yes', 'cant_solve': False, 'corrup...\n",
       "19    {'answer': 'yes', 'cant_solve': False, 'corrup...\n",
       "Name: task_output, dtype: object"
      ]
     },
     "execution_count": 13,
     "metadata": {},
     "output_type": "execute_result"
    }
   ],
   "source": [
    "task_output_data"
   ]
  },
  {
   "cell_type": "code",
   "execution_count": 14,
   "id": "60f57ecf",
   "metadata": {},
   "outputs": [],
   "source": [
    "annotation_times = []\n",
    "for i in range(0, len(task_output_data)):\n",
    "    annotation_times.append(task_output_data[i]['duration_ms'])"
   ]
  },
  {
   "cell_type": "code",
   "execution_count": 15,
   "id": "9b10dd6d",
   "metadata": {},
   "outputs": [
    {
     "data": {
      "text/plain": [
       "19414"
      ]
     },
     "execution_count": 15,
     "metadata": {},
     "output_type": "execute_result"
    }
   ],
   "source": [
    "max_annotation_time = np.max(annotation_times)\n",
    "max_annotation_time"
   ]
  },
  {
   "cell_type": "markdown",
   "id": "dc645674",
   "metadata": {},
   "source": [
    "The maximum annotation time was 19414 ms"
   ]
  },
  {
   "cell_type": "code",
   "execution_count": 16,
   "id": "b6ebebb7",
   "metadata": {},
   "outputs": [
    {
     "data": {
      "text/plain": [
       "618"
      ]
     },
     "execution_count": 16,
     "metadata": {},
     "output_type": "execute_result"
    }
   ],
   "source": [
    "min_annotation_time = np.min(annotation_times)\n",
    "min_annotation_time"
   ]
  },
  {
   "cell_type": "markdown",
   "id": "c4d6b08a",
   "metadata": {},
   "source": [
    "The minimum annotation time was 618 ms"
   ]
  },
  {
   "cell_type": "code",
   "execution_count": 17,
   "id": "5f62c7a3",
   "metadata": {},
   "outputs": [
    {
     "data": {
      "text/plain": [
       "2034.75"
      ]
     },
     "execution_count": 17,
     "metadata": {},
     "output_type": "execute_result"
    }
   ],
   "source": [
    "average_annotation_time = np.mean(annotation_times)\n",
    "average_annotation_time"
   ]
  },
  {
   "cell_type": "markdown",
   "id": "6db585a6",
   "metadata": {},
   "source": [
    "The average annotation time was 2034.75 ms"
   ]
  },
  {
   "cell_type": "code",
   "execution_count": 18,
   "id": "79509c2c",
   "metadata": {},
   "outputs": [
    {
     "data": {
      "text/html": [
       "<div>\n",
       "<style scoped>\n",
       "    .dataframe tbody tr th:only-of-type {\n",
       "        vertical-align: middle;\n",
       "    }\n",
       "\n",
       "    .dataframe tbody tr th {\n",
       "        vertical-align: top;\n",
       "    }\n",
       "\n",
       "    .dataframe thead th {\n",
       "        text-align: right;\n",
       "    }\n",
       "</style>\n",
       "<table border=\"1\" class=\"dataframe\">\n",
       "  <thead>\n",
       "    <tr style=\"text-align: right;\">\n",
       "      <th></th>\n",
       "      <th>0</th>\n",
       "    </tr>\n",
       "  </thead>\n",
       "  <tbody>\n",
       "    <tr>\n",
       "      <th>count</th>\n",
       "      <td>20.000000</td>\n",
       "    </tr>\n",
       "    <tr>\n",
       "      <th>mean</th>\n",
       "      <td>2034.750000</td>\n",
       "    </tr>\n",
       "    <tr>\n",
       "      <th>std</th>\n",
       "      <td>4144.442923</td>\n",
       "    </tr>\n",
       "    <tr>\n",
       "      <th>min</th>\n",
       "      <td>618.000000</td>\n",
       "    </tr>\n",
       "    <tr>\n",
       "      <th>25%</th>\n",
       "      <td>857.000000</td>\n",
       "    </tr>\n",
       "    <tr>\n",
       "      <th>50%</th>\n",
       "      <td>1005.500000</td>\n",
       "    </tr>\n",
       "    <tr>\n",
       "      <th>75%</th>\n",
       "      <td>1086.250000</td>\n",
       "    </tr>\n",
       "    <tr>\n",
       "      <th>max</th>\n",
       "      <td>19414.000000</td>\n",
       "    </tr>\n",
       "  </tbody>\n",
       "</table>\n",
       "</div>"
      ],
      "text/plain": [
       "                  0\n",
       "count     20.000000\n",
       "mean    2034.750000\n",
       "std     4144.442923\n",
       "min      618.000000\n",
       "25%      857.000000\n",
       "50%     1005.500000\n",
       "75%     1086.250000\n",
       "max    19414.000000"
      ]
     },
     "execution_count": 18,
     "metadata": {},
     "output_type": "execute_result"
    }
   ],
   "source": [
    "# an overview of the distribution of the annotation times\n",
    "annotation_times_overview = pd.DataFrame(annotation_times).describe()\n",
    "annotation_times_overview"
   ]
  },
  {
   "cell_type": "code",
   "execution_count": 19,
   "id": "f17c4cfb",
   "metadata": {},
   "outputs": [
    {
     "data": {
      "image/png": "[encoded data removed]",
      "text/plain": [
       "<Figure size 504x504 with 1 Axes>"
      ]
     },
     "metadata": {
      "needs_background": "light"
     },
     "output_type": "display_data"
    }
   ],
   "source": [
    "# Box plot to show overall statistical information on the data\n",
    "\n",
    "plt.figure(figsize = (7, 7))\n",
    "plt.boxplot(annotation_times, patch_artist=True, notch=True)\n",
    "plt.xticks([1], ['Annotation Times'])\n",
    "plt.yticks(np.arange(1000, 21000, 1000))\n",
    "plt.show()"
   ]
  },
  {
   "cell_type": "markdown",
   "id": "6f8a2052",
   "metadata": {},
   "source": [
    "Observation: It can be observed that the maximum annotation time is actually an outlier"
   ]
  },
  {
   "cell_type": "markdown",
   "id": "91232480",
   "metadata": {},
   "source": [
    "1c. Did all annotators produce same amount of results or not?"
   ]
  },
  {
   "cell_type": "code",
   "execution_count": 20,
   "id": "bcf397c4",
   "metadata": {},
   "outputs": [],
   "source": [
    "# dataframe creation from list_of_annotators \n",
    "annotators_df = pd.DataFrame(list_of_annotators, columns=['Annotators'])\n",
    "\n",
    "# result dataframe from task_output_data\n",
    "result_df = pd.DataFrame(task_output_data)\n",
    "\n",
    "# concatenation of annotators_df and result_df\n",
    "annotators_results_df = pd.concat([annotators_df, result_df], axis = 1)\n",
    "\n",
    "# group by annotators to see the amount of results for each annotator\n",
    "group_by_annotators = annotators_results_df.groupby('Annotators')"
   ]
  },
  {
   "cell_type": "code",
   "execution_count": 21,
   "id": "e39d78aa",
   "metadata": {},
   "outputs": [
    {
     "data": {
      "text/html": [
       "<div>\n",
       "<style scoped>\n",
       "    .dataframe tbody tr th:only-of-type {\n",
       "        vertical-align: middle;\n",
       "    }\n",
       "\n",
       "    .dataframe tbody tr th {\n",
       "        vertical-align: top;\n",
       "    }\n",
       "\n",
       "    .dataframe thead th {\n",
       "        text-align: right;\n",
       "    }\n",
       "</style>\n",
       "<table border=\"1\" class=\"dataframe\">\n",
       "  <thead>\n",
       "    <tr style=\"text-align: right;\">\n",
       "      <th></th>\n",
       "      <th>task_output</th>\n",
       "    </tr>\n",
       "    <tr>\n",
       "      <th>Annotators</th>\n",
       "      <th></th>\n",
       "    </tr>\n",
       "  </thead>\n",
       "  <tbody>\n",
       "    <tr>\n",
       "      <th>annotator_02</th>\n",
       "      <td>1</td>\n",
       "    </tr>\n",
       "    <tr>\n",
       "      <th>annotator_03</th>\n",
       "      <td>1</td>\n",
       "    </tr>\n",
       "    <tr>\n",
       "      <th>annotator_05</th>\n",
       "      <td>1</td>\n",
       "    </tr>\n",
       "    <tr>\n",
       "      <th>annotator_06</th>\n",
       "      <td>1</td>\n",
       "    </tr>\n",
       "    <tr>\n",
       "      <th>annotator_07</th>\n",
       "      <td>1</td>\n",
       "    </tr>\n",
       "    <tr>\n",
       "      <th>annotator_11</th>\n",
       "      <td>3</td>\n",
       "    </tr>\n",
       "    <tr>\n",
       "      <th>annotator_12</th>\n",
       "      <td>2</td>\n",
       "    </tr>\n",
       "    <tr>\n",
       "      <th>annotator_15</th>\n",
       "      <td>2</td>\n",
       "    </tr>\n",
       "    <tr>\n",
       "      <th>annotator_16</th>\n",
       "      <td>2</td>\n",
       "    </tr>\n",
       "    <tr>\n",
       "      <th>annotator_17</th>\n",
       "      <td>2</td>\n",
       "    </tr>\n",
       "    <tr>\n",
       "      <th>annotator_20</th>\n",
       "      <td>2</td>\n",
       "    </tr>\n",
       "    <tr>\n",
       "      <th>annotator_22</th>\n",
       "      <td>2</td>\n",
       "    </tr>\n",
       "  </tbody>\n",
       "</table>\n",
       "</div>"
      ],
      "text/plain": [
       "              task_output\n",
       "Annotators               \n",
       "annotator_02            1\n",
       "annotator_03            1\n",
       "annotator_05            1\n",
       "annotator_06            1\n",
       "annotator_07            1\n",
       "annotator_11            3\n",
       "annotator_12            2\n",
       "annotator_15            2\n",
       "annotator_16            2\n",
       "annotator_17            2\n",
       "annotator_20            2\n",
       "annotator_22            2"
      ]
     },
     "execution_count": 21,
     "metadata": {},
     "output_type": "execute_result"
    }
   ],
   "source": [
    "group_by_annotators.count()"
   ]
  },
  {
   "cell_type": "markdown",
   "id": "acc105c1",
   "metadata": {},
   "source": [
    "Answer: From the dataframe, it can observed that not all annotators produced the same result. While some produced 1 result, others produced 2 and 3 results respectively"
   ]
  },
  {
   "cell_type": "markdown",
   "id": "61c09224",
   "metadata": {},
   "source": [
    "1d. Questions for which annotators disagree"
   ]
  },
  {
   "cell_type": "code",
   "execution_count": 22,
   "id": "c34c8f6f",
   "metadata": {},
   "outputs": [],
   "source": [
    "task_input_data = pd.DataFrame(combined_list_of_data)['task_input']"
   ]
  },
  {
   "cell_type": "code",
   "execution_count": 23,
   "id": "886537ba",
   "metadata": {},
   "outputs": [
    {
     "data": {
      "text/plain": [
       "0     {'image_url': 'https://qm-auto-annotator.s3.eu...\n",
       "1     {'image_url': 'https://qm-auto-annotator.s3.eu...\n",
       "2     {'image_url': 'https://qm-auto-annotator.s3.eu...\n",
       "3     {'image_url': 'https://qm-auto-annotator.s3.eu...\n",
       "4     {'image_url': 'https://qm-auto-annotator.s3.eu...\n",
       "5     {'image_url': 'https://qm-auto-annotator.s3.eu...\n",
       "6     {'image_url': 'https://qm-auto-annotator.s3.eu...\n",
       "7     {'image_url': 'https://qm-auto-annotator.s3.eu...\n",
       "8     {'image_url': 'https://qm-auto-annotator.s3.eu...\n",
       "9     {'image_url': 'https://qm-auto-annotator.s3.eu...\n",
       "10    {'image_url': 'https://qm-auto-annotator.s3.eu...\n",
       "11    {'image_url': 'https://qm-auto-annotator.s3.eu...\n",
       "12    {'image_url': 'https://qm-auto-annotator.s3.eu...\n",
       "13    {'image_url': 'https://qm-auto-annotator.s3.eu...\n",
       "14    {'image_url': 'https://qm-auto-annotator.s3.eu...\n",
       "15    {'image_url': 'https://qm-auto-annotator.s3.eu...\n",
       "16    {'image_url': 'https://qm-auto-annotator.s3.eu...\n",
       "17    {'image_url': 'https://qm-auto-annotator.s3.eu...\n",
       "18    {'image_url': 'https://qm-auto-annotator.s3.eu...\n",
       "19    {'image_url': 'https://qm-auto-annotator.s3.eu...\n",
       "Name: task_input, dtype: object"
      ]
     },
     "execution_count": 23,
     "metadata": {},
     "output_type": "execute_result"
    }
   ],
   "source": [
    "task_input_data"
   ]
  },
  {
   "cell_type": "code",
   "execution_count": 24,
   "id": "5ffcd6e0",
   "metadata": {},
   "outputs": [
    {
     "data": {
      "text/plain": [
       "['https://qm-auto-annotator.s3.eu-central-1.amazonaws.com/bicycles/img_4686.jpg',\n",
       " 'https://qm-auto-annotator.s3.eu-central-1.amazonaws.com/bicycles/img_4686.jpg',\n",
       " 'https://qm-auto-annotator.s3.eu-central-1.amazonaws.com/bicycles/img_4686.jpg',\n",
       " 'https://qm-auto-annotator.s3.eu-central-1.amazonaws.com/bicycles/img_4686.jpg',\n",
       " 'https://qm-auto-annotator.s3.eu-central-1.amazonaws.com/bicycles/img_4686.jpg',\n",
       " 'https://qm-auto-annotator.s3.eu-central-1.amazonaws.com/bicycles/img_4686.jpg',\n",
       " 'https://qm-auto-annotator.s3.eu-central-1.amazonaws.com/bicycles/img_4686.jpg',\n",
       " 'https://qm-auto-annotator.s3.eu-central-1.amazonaws.com/bicycles/img_4686.jpg',\n",
       " 'https://qm-auto-annotator.s3.eu-central-1.amazonaws.com/bicycles/img_4686.jpg',\n",
       " 'https://qm-auto-annotator.s3.eu-central-1.amazonaws.com/bicycles/img_4686.jpg',\n",
       " 'https://qm-auto-annotator.s3.eu-central-1.amazonaws.com/bicycles/img_8607.jpg',\n",
       " 'https://qm-auto-annotator.s3.eu-central-1.amazonaws.com/bicycles/img_8607.jpg',\n",
       " 'https://qm-auto-annotator.s3.eu-central-1.amazonaws.com/bicycles/img_8607.jpg',\n",
       " 'https://qm-auto-annotator.s3.eu-central-1.amazonaws.com/bicycles/img_8607.jpg',\n",
       " 'https://qm-auto-annotator.s3.eu-central-1.amazonaws.com/bicycles/img_8607.jpg',\n",
       " 'https://qm-auto-annotator.s3.eu-central-1.amazonaws.com/bicycles/img_8607.jpg',\n",
       " 'https://qm-auto-annotator.s3.eu-central-1.amazonaws.com/bicycles/img_8607.jpg',\n",
       " 'https://qm-auto-annotator.s3.eu-central-1.amazonaws.com/bicycles/img_8607.jpg',\n",
       " 'https://qm-auto-annotator.s3.eu-central-1.amazonaws.com/bicycles/img_8607.jpg',\n",
       " 'https://qm-auto-annotator.s3.eu-central-1.amazonaws.com/bicycles/img_8607.jpg']"
      ]
     },
     "execution_count": 24,
     "metadata": {},
     "output_type": "execute_result"
    }
   ],
   "source": [
    "# obtain the images\n",
    "image_urls = []\n",
    "for i in range(0, len(task_input_data)):\n",
    "    image_urls.append(task_input_data[i]['image_url'])\n",
    "image_urls"
   ]
  },
  {
   "cell_type": "code",
   "execution_count": 27,
   "id": "2453b1f1",
   "metadata": {},
   "outputs": [],
   "source": [
    "images = []\n",
    "for url in image_urls:\n",
    "    searchObj = re.search( r'img_(.+?).jpg', url, re.M|re.I)\n",
    "    images.append(searchObj.group())\n",
    "images_df = pd.DataFrame(images, columns=['Images'])"
   ]
  },
  {
   "cell_type": "code",
   "execution_count": 28,
   "id": "a2cf5563",
   "metadata": {},
   "outputs": [],
   "source": [
    "answers = []\n",
    "for i in range(0, len(task_output_data)):\n",
    "    answers.append(task_output_data[i]['answer'])\n",
    "answers_df = pd.DataFrame(answers, columns=['Answers'])"
   ]
  },
  {
   "cell_type": "code",
   "execution_count": 29,
   "id": "01fc10c5",
   "metadata": {},
   "outputs": [
    {
     "data": {
      "text/html": [
       "<div>\n",
       "<style scoped>\n",
       "    .dataframe tbody tr th:only-of-type {\n",
       "        vertical-align: middle;\n",
       "    }\n",
       "\n",
       "    .dataframe tbody tr th {\n",
       "        vertical-align: top;\n",
       "    }\n",
       "\n",
       "    .dataframe thead th {\n",
       "        text-align: right;\n",
       "    }\n",
       "</style>\n",
       "<table border=\"1\" class=\"dataframe\">\n",
       "  <thead>\n",
       "    <tr style=\"text-align: right;\">\n",
       "      <th></th>\n",
       "      <th>Annotators</th>\n",
       "      <th>Images</th>\n",
       "      <th>Answers</th>\n",
       "    </tr>\n",
       "  </thead>\n",
       "  <tbody>\n",
       "    <tr>\n",
       "      <th>0</th>\n",
       "      <td>annotator_12</td>\n",
       "      <td>img_4686.jpg</td>\n",
       "      <td>no</td>\n",
       "    </tr>\n",
       "    <tr>\n",
       "      <th>1</th>\n",
       "      <td>annotator_11</td>\n",
       "      <td>img_4686.jpg</td>\n",
       "      <td>no</td>\n",
       "    </tr>\n",
       "    <tr>\n",
       "      <th>2</th>\n",
       "      <td>annotator_22</td>\n",
       "      <td>img_4686.jpg</td>\n",
       "      <td>no</td>\n",
       "    </tr>\n",
       "    <tr>\n",
       "      <th>3</th>\n",
       "      <td>annotator_17</td>\n",
       "      <td>img_4686.jpg</td>\n",
       "      <td>no</td>\n",
       "    </tr>\n",
       "    <tr>\n",
       "      <th>4</th>\n",
       "      <td>annotator_02</td>\n",
       "      <td>img_4686.jpg</td>\n",
       "      <td>no</td>\n",
       "    </tr>\n",
       "    <tr>\n",
       "      <th>5</th>\n",
       "      <td>annotator_16</td>\n",
       "      <td>img_4686.jpg</td>\n",
       "      <td>no</td>\n",
       "    </tr>\n",
       "    <tr>\n",
       "      <th>6</th>\n",
       "      <td>annotator_11</td>\n",
       "      <td>img_4686.jpg</td>\n",
       "      <td>no</td>\n",
       "    </tr>\n",
       "    <tr>\n",
       "      <th>7</th>\n",
       "      <td>annotator_12</td>\n",
       "      <td>img_4686.jpg</td>\n",
       "      <td>no</td>\n",
       "    </tr>\n",
       "    <tr>\n",
       "      <th>8</th>\n",
       "      <td>annotator_15</td>\n",
       "      <td>img_4686.jpg</td>\n",
       "      <td>no</td>\n",
       "    </tr>\n",
       "    <tr>\n",
       "      <th>9</th>\n",
       "      <td>annotator_20</td>\n",
       "      <td>img_4686.jpg</td>\n",
       "      <td>no</td>\n",
       "    </tr>\n",
       "    <tr>\n",
       "      <th>10</th>\n",
       "      <td>annotator_11</td>\n",
       "      <td>img_8607.jpg</td>\n",
       "      <td>yes</td>\n",
       "    </tr>\n",
       "    <tr>\n",
       "      <th>11</th>\n",
       "      <td>annotator_06</td>\n",
       "      <td>img_8607.jpg</td>\n",
       "      <td>yes</td>\n",
       "    </tr>\n",
       "    <tr>\n",
       "      <th>12</th>\n",
       "      <td>annotator_05</td>\n",
       "      <td>img_8607.jpg</td>\n",
       "      <td>yes</td>\n",
       "    </tr>\n",
       "    <tr>\n",
       "      <th>13</th>\n",
       "      <td>annotator_22</td>\n",
       "      <td>img_8607.jpg</td>\n",
       "      <td>yes</td>\n",
       "    </tr>\n",
       "    <tr>\n",
       "      <th>14</th>\n",
       "      <td>annotator_20</td>\n",
       "      <td>img_8607.jpg</td>\n",
       "      <td>yes</td>\n",
       "    </tr>\n",
       "    <tr>\n",
       "      <th>15</th>\n",
       "      <td>annotator_16</td>\n",
       "      <td>img_8607.jpg</td>\n",
       "      <td>yes</td>\n",
       "    </tr>\n",
       "    <tr>\n",
       "      <th>16</th>\n",
       "      <td>annotator_17</td>\n",
       "      <td>img_8607.jpg</td>\n",
       "      <td>yes</td>\n",
       "    </tr>\n",
       "    <tr>\n",
       "      <th>17</th>\n",
       "      <td>annotator_03</td>\n",
       "      <td>img_8607.jpg</td>\n",
       "      <td>yes</td>\n",
       "    </tr>\n",
       "    <tr>\n",
       "      <th>18</th>\n",
       "      <td>annotator_07</td>\n",
       "      <td>img_8607.jpg</td>\n",
       "      <td>yes</td>\n",
       "    </tr>\n",
       "    <tr>\n",
       "      <th>19</th>\n",
       "      <td>annotator_15</td>\n",
       "      <td>img_8607.jpg</td>\n",
       "      <td>yes</td>\n",
       "    </tr>\n",
       "  </tbody>\n",
       "</table>\n",
       "</div>"
      ],
      "text/plain": [
       "      Annotators        Images Answers\n",
       "0   annotator_12  img_4686.jpg      no\n",
       "1   annotator_11  img_4686.jpg      no\n",
       "2   annotator_22  img_4686.jpg      no\n",
       "3   annotator_17  img_4686.jpg      no\n",
       "4   annotator_02  img_4686.jpg      no\n",
       "5   annotator_16  img_4686.jpg      no\n",
       "6   annotator_11  img_4686.jpg      no\n",
       "7   annotator_12  img_4686.jpg      no\n",
       "8   annotator_15  img_4686.jpg      no\n",
       "9   annotator_20  img_4686.jpg      no\n",
       "10  annotator_11  img_8607.jpg     yes\n",
       "11  annotator_06  img_8607.jpg     yes\n",
       "12  annotator_05  img_8607.jpg     yes\n",
       "13  annotator_22  img_8607.jpg     yes\n",
       "14  annotator_20  img_8607.jpg     yes\n",
       "15  annotator_16  img_8607.jpg     yes\n",
       "16  annotator_17  img_8607.jpg     yes\n",
       "17  annotator_03  img_8607.jpg     yes\n",
       "18  annotator_07  img_8607.jpg     yes\n",
       "19  annotator_15  img_8607.jpg     yes"
      ]
     },
     "execution_count": 29,
     "metadata": {},
     "output_type": "execute_result"
    }
   ],
   "source": [
    "df = pd.concat([annotators_df, images_df, answers_df], axis=1)\n",
    "df"
   ]
  },
  {
   "cell_type": "markdown",
   "id": "113031ed",
   "metadata": {},
   "source": [
    "From the dataframe above, there are no questions for which the annotators disagree. Each annotator that was asked if img_4686 contained a bicycle said No, while all those asked if img_8607 contained a bicycle said yes."
   ]
  },
  {
   "cell_type": "code",
   "execution_count": null,
   "id": "87439931",
   "metadata": {},
   "outputs": [],
   "source": []
  }
 ],
 "metadata": {
  "kernelspec": {
   "display_name": "Python 3",
   "language": "python",
   "name": "python3"
  },
  "language_info": {
   "codemirror_mode": {
    "name": "ipython",
    "version": 3
   },
   "file_extension": ".py",
   "mimetype": "text/x-python",
   "name": "python",
   "nbconvert_exporter": "python",
   "pygments_lexer": "ipython3",
   "version": "3.8.8"
  }
 },
 "nbformat": 4,
 "nbformat_minor": 5
}
