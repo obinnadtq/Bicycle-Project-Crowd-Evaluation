{
 "cells": [
  {
   "cell_type": "markdown",
   "id": "3672d56c",
   "metadata": {},
   "source": [
    "# Importing necessary libraries"
   ]
  },
  {
   "cell_type": "code",
   "execution_count": 1,
   "id": "3675dd27",
   "metadata": {},
   "outputs": [],
   "source": [
    "import numpy as np\n",
    "import pandas as pd\n",
    "from numpy.random import randn\n",
    "from utils import *\n",
    "import matplotlib.pyplot as plt\n",
    "import seaborn as sns\n",
    "import re\n",
    "from matplotlib.patches import Rectangle"
   ]
  },
  {
   "cell_type": "markdown",
   "id": "9960868b",
   "metadata": {},
   "source": [
    "# Importing data and overview "
   ]
  },
  {
   "cell_type": "markdown",
   "id": "817efa69",
   "metadata": {},
   "source": [
    "# Annotator responses data"
   ]
  },
  {
   "cell_type": "code",
   "execution_count": 2,
   "id": "955a11b5",
   "metadata": {},
   "outputs": [],
   "source": [
    "# read the annotators data. In the pd.read_json method, please insert the annonymized_project file name.\n",
    "annotator_data = pd.read_json('anonymized_project.json')"
   ]
  },
  {
   "cell_type": "code",
   "execution_count": 3,
   "id": "9ca10df2",
   "metadata": {},
   "outputs": [],
   "source": [
    "# get all the results\n",
    "annotators_results = annotator_data['results']['root_node']['results']"
   ]
  },
  {
   "cell_type": "code",
   "execution_count": 4,
   "id": "fd0f00e7",
   "metadata": {},
   "outputs": [],
   "source": [
    "# iterate through each key of results that has be changed to a list\n",
    "keys = []\n",
    "for key in [annotators_results][0]:\n",
    "    keys.append(key)"
   ]
  },
  {
   "cell_type": "markdown",
   "id": "ed201513",
   "metadata": {},
   "source": [
    "1a. Number of annotators"
   ]
  },
  {
   "cell_type": "code",
   "execution_count": 5,
   "id": "49af9882",
   "metadata": {},
   "outputs": [],
   "source": [
    "# append all the annotators into a list\n",
    "list_of_annotators = []\n",
    "for i in range(0, len(annotators_results)):\n",
    "    for j in np.arange(0, len(annotators_results[keys[i]]['results'])):\n",
    "        list_of_annotators.append(annotators_results[keys[i]]['results'][j]['user']['vendor_user_id'])\n",
    "        "
   ]
  },
  {
   "cell_type": "code",
   "execution_count": 6,
   "id": "977c7db8",
   "metadata": {},
   "outputs": [
    {
     "data": {
      "text/plain": [
       "22"
      ]
     },
     "execution_count": 6,
     "metadata": {},
     "output_type": "execute_result"
    }
   ],
   "source": [
    "# obtain the list of annotators. set method is used because some annotators appear more than once\n",
    "number_of_annotators = len(set(list_of_annotators))\n",
    "number_of_annotators"
   ]
  },
  {
   "cell_type": "markdown",
   "id": "88566346",
   "metadata": {},
   "source": [
    "Answer: 22 annotators contributed to the dataset"
   ]
  },
  {
   "cell_type": "markdown",
   "id": "d70f4e45",
   "metadata": {},
   "source": [
    "1b. Average, Minimum and Maximum annotation times"
   ]
  },
  {
   "cell_type": "code",
   "execution_count": 7,
   "id": "0ff7bd5b",
   "metadata": {},
   "outputs": [],
   "source": [
    "task_output_data = []\n",
    "for i in range(0, len(annotators_results)):\n",
    "    for j in np.arange(0, len(annotators_results[keys[i]]['results'])):\n",
    "        task_output_data.append(annotators_results[keys[i]]['results'][j]['task_output'])\n",
    "        "
   ]
  },
  {
   "cell_type": "code",
   "execution_count": 8,
   "id": "52ac606e",
   "metadata": {},
   "outputs": [],
   "source": [
    "annotation_times = []\n",
    "for i in range(0, len(task_output_data)):\n",
    "    annotation_times.append(task_output_data[i]['duration_ms'])"
   ]
  },
  {
   "cell_type": "code",
   "execution_count": 10,
   "id": "9b10dd6d",
   "metadata": {},
   "outputs": [
    {
     "data": {
      "text/plain": [
       "42398"
      ]
     },
     "execution_count": 10,
     "metadata": {},
     "output_type": "execute_result"
    }
   ],
   "source": [
    "max_annotation_time = np.max(annotation_times)\n",
    "max_annotation_time"
   ]
  },
  {
   "cell_type": "markdown",
   "id": "dc645674",
   "metadata": {},
   "source": [
    "The maximum annotation time was 42398 ms"
   ]
  },
  {
   "cell_type": "code",
   "execution_count": 11,
   "id": "b6ebebb7",
   "metadata": {},
   "outputs": [
    {
     "data": {
      "text/plain": [
       "-99999"
      ]
     },
     "execution_count": 11,
     "metadata": {},
     "output_type": "execute_result"
    }
   ],
   "source": [
    "min_annotation_time = np.min(annotation_times)\n",
    "min_annotation_time"
   ]
  },
  {
   "cell_type": "markdown",
   "id": "c4d6b08a",
   "metadata": {},
   "source": [
    "The minimum annotation time was -99999 ms"
   ]
  },
  {
   "cell_type": "code",
   "execution_count": 12,
   "id": "5f62c7a3",
   "metadata": {},
   "outputs": [
    {
     "data": {
      "text/plain": [
       "1284.3338725652031"
      ]
     },
     "execution_count": 12,
     "metadata": {},
     "output_type": "execute_result"
    }
   ],
   "source": [
    "average_annotation_time = np.mean(annotation_times)\n",
    "average_annotation_time"
   ]
  },
  {
   "cell_type": "markdown",
   "id": "6db585a6",
   "metadata": {},
   "source": [
    "The average annotation time was 1284.3338725652031 ms"
   ]
  },
  {
   "cell_type": "code",
   "execution_count": 13,
   "id": "79509c2c",
   "metadata": {},
   "outputs": [
    {
     "data": {
      "text/html": [
       "<div>\n",
       "<style scoped>\n",
       "    .dataframe tbody tr th:only-of-type {\n",
       "        vertical-align: middle;\n",
       "    }\n",
       "\n",
       "    .dataframe tbody tr th {\n",
       "        vertical-align: top;\n",
       "    }\n",
       "\n",
       "    .dataframe thead th {\n",
       "        text-align: right;\n",
       "    }\n",
       "</style>\n",
       "<table border=\"1\" class=\"dataframe\">\n",
       "  <thead>\n",
       "    <tr style=\"text-align: right;\">\n",
       "      <th></th>\n",
       "      <th>0</th>\n",
       "    </tr>\n",
       "  </thead>\n",
       "  <tbody>\n",
       "    <tr>\n",
       "      <th>count</th>\n",
       "      <td>90870.000000</td>\n",
       "    </tr>\n",
       "    <tr>\n",
       "      <th>mean</th>\n",
       "      <td>1284.333873</td>\n",
       "    </tr>\n",
       "    <tr>\n",
       "      <th>std</th>\n",
       "      <td>1351.960465</td>\n",
       "    </tr>\n",
       "    <tr>\n",
       "      <th>min</th>\n",
       "      <td>-99999.000000</td>\n",
       "    </tr>\n",
       "    <tr>\n",
       "      <th>25%</th>\n",
       "      <td>887.000000</td>\n",
       "    </tr>\n",
       "    <tr>\n",
       "      <th>50%</th>\n",
       "      <td>1058.000000</td>\n",
       "    </tr>\n",
       "    <tr>\n",
       "      <th>75%</th>\n",
       "      <td>1328.000000</td>\n",
       "    </tr>\n",
       "    <tr>\n",
       "      <th>max</th>\n",
       "      <td>42398.000000</td>\n",
       "    </tr>\n",
       "  </tbody>\n",
       "</table>\n",
       "</div>"
      ],
      "text/plain": [
       "                  0\n",
       "count  90870.000000\n",
       "mean    1284.333873\n",
       "std     1351.960465\n",
       "min   -99999.000000\n",
       "25%      887.000000\n",
       "50%     1058.000000\n",
       "75%     1328.000000\n",
       "max    42398.000000"
      ]
     },
     "execution_count": 13,
     "metadata": {},
     "output_type": "execute_result"
    }
   ],
   "source": [
    "# an overview of the distribution of the annotation times\n",
    "annotation_times_overview = pd.DataFrame(annotation_times).describe()\n",
    "annotation_times_overview"
   ]
  },
  {
   "cell_type": "code",
   "execution_count": 14,
   "id": "f17c4cfb",
   "metadata": {},
   "outputs": [
    {
     "data": {
      "image/png": "[encoded data removed]",
      "text/plain": [
       "<Figure size 720x1080 with 1 Axes>"
      ]
     },
     "metadata": {
      "needs_background": "light"
     },
     "output_type": "display_data"
    }
   ],
   "source": [
    "# Box plot to show overall statistical information on the data\n",
    "\n",
    "plt.figure(figsize = (10, 15))\n",
    "plt.boxplot(annotation_times, patch_artist=True, notch=True)\n",
    "plt.xticks([1], ['Annotation Times'])\n",
    "plt.show()"
   ]
  },
  {
   "cell_type": "markdown",
   "id": "6f8a2052",
   "metadata": {},
   "source": [
    "Observation: It can be observed that the minimum annotation time is actually an outlier"
   ]
  },
  {
   "cell_type": "markdown",
   "id": "91232480",
   "metadata": {},
   "source": [
    "1c. Did all annotators produce same amount of results or not?"
   ]
  },
  {
   "cell_type": "code",
   "execution_count": 15,
   "id": "bcf397c4",
   "metadata": {},
   "outputs": [],
   "source": [
    "# dataframe creation from list_of_annotators \n",
    "annotators_df = pd.DataFrame(list_of_annotators, columns=['Annotators'])\n",
    "\n",
    "# result dataframe from task_output_data\n",
    "result_df = pd.DataFrame(task_output_data)\n",
    "\n",
    "# concatenation of annotators_df and result_df\n",
    "annotators_results_df = pd.concat([annotators_df, result_df], axis = 1)\n",
    "\n",
    "# group by annotators to see the amount of results for each annotator\n",
    "group_by_annotators = annotators_results_df.groupby('Annotators')"
   ]
  },
  {
   "cell_type": "code",
   "execution_count": 16,
   "id": "e39d78aa",
   "metadata": {},
   "outputs": [
    {
     "data": {
      "text/html": [
       "<div>\n",
       "<style scoped>\n",
       "    .dataframe tbody tr th:only-of-type {\n",
       "        vertical-align: middle;\n",
       "    }\n",
       "\n",
       "    .dataframe tbody tr th {\n",
       "        vertical-align: top;\n",
       "    }\n",
       "\n",
       "    .dataframe thead th {\n",
       "        text-align: right;\n",
       "    }\n",
       "</style>\n",
       "<table border=\"1\" class=\"dataframe\">\n",
       "  <thead>\n",
       "    <tr style=\"text-align: right;\">\n",
       "      <th></th>\n",
       "      <th>answer</th>\n",
       "      <th>cant_solve</th>\n",
       "      <th>corrupt_data</th>\n",
       "      <th>duration_ms</th>\n",
       "    </tr>\n",
       "    <tr>\n",
       "      <th>Annotators</th>\n",
       "      <th></th>\n",
       "      <th></th>\n",
       "      <th></th>\n",
       "      <th></th>\n",
       "    </tr>\n",
       "  </thead>\n",
       "  <tbody>\n",
       "    <tr>\n",
       "      <th>annotator_01</th>\n",
       "      <td>1280</td>\n",
       "      <td>1280</td>\n",
       "      <td>1280</td>\n",
       "      <td>1280</td>\n",
       "    </tr>\n",
       "    <tr>\n",
       "      <th>annotator_02</th>\n",
       "      <td>7596</td>\n",
       "      <td>7596</td>\n",
       "      <td>7596</td>\n",
       "      <td>7596</td>\n",
       "    </tr>\n",
       "    <tr>\n",
       "      <th>annotator_03</th>\n",
       "      <td>630</td>\n",
       "      <td>630</td>\n",
       "      <td>630</td>\n",
       "      <td>630</td>\n",
       "    </tr>\n",
       "    <tr>\n",
       "      <th>annotator_04</th>\n",
       "      <td>6421</td>\n",
       "      <td>6421</td>\n",
       "      <td>6421</td>\n",
       "      <td>6421</td>\n",
       "    </tr>\n",
       "    <tr>\n",
       "      <th>annotator_05</th>\n",
       "      <td>3475</td>\n",
       "      <td>3475</td>\n",
       "      <td>3475</td>\n",
       "      <td>3475</td>\n",
       "    </tr>\n",
       "    <tr>\n",
       "      <th>annotator_06</th>\n",
       "      <td>5337</td>\n",
       "      <td>5337</td>\n",
       "      <td>5337</td>\n",
       "      <td>5337</td>\n",
       "    </tr>\n",
       "    <tr>\n",
       "      <th>annotator_07</th>\n",
       "      <td>2175</td>\n",
       "      <td>2175</td>\n",
       "      <td>2175</td>\n",
       "      <td>2175</td>\n",
       "    </tr>\n",
       "    <tr>\n",
       "      <th>annotator_08</th>\n",
       "      <td>6537</td>\n",
       "      <td>6537</td>\n",
       "      <td>6537</td>\n",
       "      <td>6537</td>\n",
       "    </tr>\n",
       "    <tr>\n",
       "      <th>annotator_09</th>\n",
       "      <td>4860</td>\n",
       "      <td>4860</td>\n",
       "      <td>4860</td>\n",
       "      <td>4860</td>\n",
       "    </tr>\n",
       "    <tr>\n",
       "      <th>annotator_10</th>\n",
       "      <td>315</td>\n",
       "      <td>315</td>\n",
       "      <td>315</td>\n",
       "      <td>315</td>\n",
       "    </tr>\n",
       "    <tr>\n",
       "      <th>annotator_11</th>\n",
       "      <td>6436</td>\n",
       "      <td>6436</td>\n",
       "      <td>6436</td>\n",
       "      <td>6436</td>\n",
       "    </tr>\n",
       "    <tr>\n",
       "      <th>annotator_12</th>\n",
       "      <td>6210</td>\n",
       "      <td>6210</td>\n",
       "      <td>6210</td>\n",
       "      <td>6210</td>\n",
       "    </tr>\n",
       "    <tr>\n",
       "      <th>annotator_13</th>\n",
       "      <td>7078</td>\n",
       "      <td>7078</td>\n",
       "      <td>7078</td>\n",
       "      <td>7078</td>\n",
       "    </tr>\n",
       "    <tr>\n",
       "      <th>annotator_14</th>\n",
       "      <td>1725</td>\n",
       "      <td>1725</td>\n",
       "      <td>1725</td>\n",
       "      <td>1725</td>\n",
       "    </tr>\n",
       "    <tr>\n",
       "      <th>annotator_15</th>\n",
       "      <td>6088</td>\n",
       "      <td>6088</td>\n",
       "      <td>6088</td>\n",
       "      <td>6088</td>\n",
       "    </tr>\n",
       "    <tr>\n",
       "      <th>annotator_16</th>\n",
       "      <td>5061</td>\n",
       "      <td>5061</td>\n",
       "      <td>5061</td>\n",
       "      <td>5061</td>\n",
       "    </tr>\n",
       "    <tr>\n",
       "      <th>annotator_17</th>\n",
       "      <td>3485</td>\n",
       "      <td>3485</td>\n",
       "      <td>3485</td>\n",
       "      <td>3485</td>\n",
       "    </tr>\n",
       "    <tr>\n",
       "      <th>annotator_18</th>\n",
       "      <td>5170</td>\n",
       "      <td>5170</td>\n",
       "      <td>5170</td>\n",
       "      <td>5170</td>\n",
       "    </tr>\n",
       "    <tr>\n",
       "      <th>annotator_19</th>\n",
       "      <td>170</td>\n",
       "      <td>170</td>\n",
       "      <td>170</td>\n",
       "      <td>170</td>\n",
       "    </tr>\n",
       "    <tr>\n",
       "      <th>annotator_20</th>\n",
       "      <td>6126</td>\n",
       "      <td>6126</td>\n",
       "      <td>6126</td>\n",
       "      <td>6126</td>\n",
       "    </tr>\n",
       "    <tr>\n",
       "      <th>annotator_21</th>\n",
       "      <td>2950</td>\n",
       "      <td>2950</td>\n",
       "      <td>2950</td>\n",
       "      <td>2950</td>\n",
       "    </tr>\n",
       "    <tr>\n",
       "      <th>annotator_22</th>\n",
       "      <td>1745</td>\n",
       "      <td>1745</td>\n",
       "      <td>1745</td>\n",
       "      <td>1745</td>\n",
       "    </tr>\n",
       "  </tbody>\n",
       "</table>\n",
       "</div>"
      ],
      "text/plain": [
       "              answer  cant_solve  corrupt_data  duration_ms\n",
       "Annotators                                                 \n",
       "annotator_01    1280        1280          1280         1280\n",
       "annotator_02    7596        7596          7596         7596\n",
       "annotator_03     630         630           630          630\n",
       "annotator_04    6421        6421          6421         6421\n",
       "annotator_05    3475        3475          3475         3475\n",
       "annotator_06    5337        5337          5337         5337\n",
       "annotator_07    2175        2175          2175         2175\n",
       "annotator_08    6537        6537          6537         6537\n",
       "annotator_09    4860        4860          4860         4860\n",
       "annotator_10     315         315           315          315\n",
       "annotator_11    6436        6436          6436         6436\n",
       "annotator_12    6210        6210          6210         6210\n",
       "annotator_13    7078        7078          7078         7078\n",
       "annotator_14    1725        1725          1725         1725\n",
       "annotator_15    6088        6088          6088         6088\n",
       "annotator_16    5061        5061          5061         5061\n",
       "annotator_17    3485        3485          3485         3485\n",
       "annotator_18    5170        5170          5170         5170\n",
       "annotator_19     170         170           170          170\n",
       "annotator_20    6126        6126          6126         6126\n",
       "annotator_21    2950        2950          2950         2950\n",
       "annotator_22    1745        1745          1745         1745"
      ]
     },
     "execution_count": 16,
     "metadata": {},
     "output_type": "execute_result"
    }
   ],
   "source": [
    "group_by_annotators.count()"
   ]
  },
  {
   "cell_type": "markdown",
   "id": "acc105c1",
   "metadata": {},
   "source": [
    "Answer: From the dataframe, it can observed that not all annotators produced the same amount of results. They all produced different amount of results"
   ]
  },
  {
   "cell_type": "markdown",
   "id": "61c09224",
   "metadata": {},
   "source": [
    "1d. Questions for which annotators disagree"
   ]
  },
  {
   "cell_type": "code",
   "execution_count": 17,
   "id": "c34c8f6f",
   "metadata": {},
   "outputs": [],
   "source": [
    "task_input_data = []\n",
    "for i in range(0, len(annotators_results)):\n",
    "    for j in np.arange(0, len(annotators_results[keys[i]]['results'])):\n",
    "        task_input_data.append(annotators_results[keys[i]]['results'][j]['task_input'])"
   ]
  },
  {
   "cell_type": "code",
   "execution_count": 18,
   "id": "5ffcd6e0",
   "metadata": {},
   "outputs": [],
   "source": [
    "# obtain the image urls\n",
    "image_urls = []\n",
    "for i in range(0, len(task_input_data)):\n",
    "    image_urls.append(task_input_data[i]['image_url'])"
   ]
  },
  {
   "cell_type": "code",
   "execution_count": 19,
   "id": "2453b1f1",
   "metadata": {},
   "outputs": [],
   "source": [
    "# image list\n",
    "images = []\n",
    "for url in image_urls:\n",
    "    searchObj = re.search( r'img_(.+?).jpg', url, re.M|re.I)\n",
    "    images.append(searchObj.group())\n",
    "images_df = pd.DataFrame(images, columns=['Images'])"
   ]
  },
  {
   "cell_type": "code",
   "execution_count": 20,
   "id": "a2cf5563",
   "metadata": {},
   "outputs": [],
   "source": [
    "# answers list\n",
    "answers = []\n",
    "get_property(task_output_data, answers, 'answer' )\n",
    "answers_df = pd.DataFrame(answers, columns=['Answers'])"
   ]
  },
  {
   "cell_type": "code",
   "execution_count": 21,
   "id": "01fc10c5",
   "metadata": {},
   "outputs": [],
   "source": [
    "df = pd.concat([annotators_df, images_df, answers_df], axis=1)"
   ]
  },
  {
   "cell_type": "code",
   "execution_count": 22,
   "id": "bc150a47",
   "metadata": {},
   "outputs": [],
   "source": [
    "# a dictionary for each image and the answers\n",
    "images_answers_dict = {}\n",
    "for i in np.arange(0, len(images), 10):\n",
    "    images_answers_dict[images[i]] = answers[i:10+i]\n",
    "  "
   ]
  },
  {
   "cell_type": "code",
   "execution_count": 23,
   "id": "bd5f12a3",
   "metadata": {},
   "outputs": [],
   "source": [
    "count_yes = 0 # number of yes answers\n",
    "count_no = 0  # number of no answers\n",
    "images_annotators_disagree = []\n",
    "for key in images_answers_dict:\n",
    "    for i in images_answers_dict[key]:\n",
    "        if i == 'no':\n",
    "            count_no = count_no + 1\n",
    "        if i == 'yes':\n",
    "            count_yes = count_yes + 1\n",
    "    # it is assumed that when the difference between yes and no of two annotators is less than or equal to 3, they disagree\n",
    "    if count_no - count_yes <=3 | count_yes - count_no <=3:\n",
    "        images_annotators_disagree.append(key)\n",
    "\n"
   ]
  },
  {
   "cell_type": "code",
   "execution_count": 24,
   "id": "6ad24dd9",
   "metadata": {},
   "outputs": [
    {
     "data": {
      "text/plain": [
       "['img_8607.jpg',\n",
       " 'img_0341.jpg',\n",
       " 'img_7230.jpg',\n",
       " 'img_5467.jpg',\n",
       " 'img_7192.jpg',\n",
       " 'img_0719.jpg',\n",
       " 'img_2731.jpg']"
      ]
     },
     "execution_count": 24,
     "metadata": {},
     "output_type": "execute_result"
    }
   ],
   "source": [
    "images_annotators_disagree"
   ]
  },
  {
   "cell_type": "markdown",
   "id": "5dc48b15",
   "metadata": {},
   "source": [
    "The images in the list above are the ones in which the annotators highly disagree because the difference between yes and no is not so much i.e less than or equals to 3"
   ]
  },
  {
   "cell_type": "markdown",
   "id": "1e9285f1",
   "metadata": {},
   "source": [
    "2"
   ]
  },
  {
   "cell_type": "code",
   "execution_count": 25,
   "id": "3cd7fc6d",
   "metadata": {},
   "outputs": [],
   "source": [
    "cant_solve = []\n",
    "get_property(task_output_data, cant_solve, 'cant_solve')\n",
    "cant_solve_df = pd.DataFrame(cant_solve, columns=['Cant Solve'])"
   ]
  },
  {
   "cell_type": "code",
   "execution_count": 26,
   "id": "662fb83d",
   "metadata": {},
   "outputs": [],
   "source": [
    "corrupt_data = []\n",
    "get_property(task_output_data, corrupt_data, 'corrupt_data')\n",
    "corrupt_data_df = pd.DataFrame(corrupt_data, columns=['Corrupt Data'])"
   ]
  },
  {
   "cell_type": "code",
   "execution_count": 27,
   "id": "a19eb0d9",
   "metadata": {},
   "outputs": [],
   "source": [
    "# dataframe of annotators, cant_solve and corrupt_data\n",
    "new_df = pd.concat([annotators_df,images_df, cant_solve_df, corrupt_data_df], axis = 1)"
   ]
  },
  {
   "cell_type": "code",
   "execution_count": 28,
   "id": "9dafa035",
   "metadata": {},
   "outputs": [
    {
     "data": {
      "text/html": [
       "<div>\n",
       "<style scoped>\n",
       "    .dataframe tbody tr th:only-of-type {\n",
       "        vertical-align: middle;\n",
       "    }\n",
       "\n",
       "    .dataframe tbody tr th {\n",
       "        vertical-align: top;\n",
       "    }\n",
       "\n",
       "    .dataframe thead th {\n",
       "        text-align: right;\n",
       "    }\n",
       "</style>\n",
       "<table border=\"1\" class=\"dataframe\">\n",
       "  <thead>\n",
       "    <tr style=\"text-align: right;\">\n",
       "      <th></th>\n",
       "      <th>Images</th>\n",
       "      <th>Cant Solve</th>\n",
       "      <th>Corrupt Data</th>\n",
       "    </tr>\n",
       "    <tr>\n",
       "      <th>Annotators</th>\n",
       "      <th></th>\n",
       "      <th></th>\n",
       "      <th></th>\n",
       "    </tr>\n",
       "  </thead>\n",
       "  <tbody>\n",
       "    <tr>\n",
       "      <th>annotator_02</th>\n",
       "      <td>2</td>\n",
       "      <td>2</td>\n",
       "      <td>2</td>\n",
       "    </tr>\n",
       "    <tr>\n",
       "      <th>annotator_04</th>\n",
       "      <td>4</td>\n",
       "      <td>4</td>\n",
       "      <td>4</td>\n",
       "    </tr>\n",
       "    <tr>\n",
       "      <th>annotator_06</th>\n",
       "      <td>1</td>\n",
       "      <td>1</td>\n",
       "      <td>1</td>\n",
       "    </tr>\n",
       "    <tr>\n",
       "      <th>annotator_07</th>\n",
       "      <td>1</td>\n",
       "      <td>1</td>\n",
       "      <td>1</td>\n",
       "    </tr>\n",
       "    <tr>\n",
       "      <th>annotator_08</th>\n",
       "      <td>3</td>\n",
       "      <td>3</td>\n",
       "      <td>3</td>\n",
       "    </tr>\n",
       "    <tr>\n",
       "      <th>annotator_11</th>\n",
       "      <td>1</td>\n",
       "      <td>1</td>\n",
       "      <td>1</td>\n",
       "    </tr>\n",
       "    <tr>\n",
       "      <th>annotator_14</th>\n",
       "      <td>1</td>\n",
       "      <td>1</td>\n",
       "      <td>1</td>\n",
       "    </tr>\n",
       "    <tr>\n",
       "      <th>annotator_18</th>\n",
       "      <td>3</td>\n",
       "      <td>3</td>\n",
       "      <td>3</td>\n",
       "    </tr>\n",
       "    <tr>\n",
       "      <th>annotator_20</th>\n",
       "      <td>1</td>\n",
       "      <td>1</td>\n",
       "      <td>1</td>\n",
       "    </tr>\n",
       "    <tr>\n",
       "      <th>annotator_22</th>\n",
       "      <td>4</td>\n",
       "      <td>4</td>\n",
       "      <td>4</td>\n",
       "    </tr>\n",
       "  </tbody>\n",
       "</table>\n",
       "</div>"
      ],
      "text/plain": [
       "              Images  Cant Solve  Corrupt Data\n",
       "Annotators                                    \n",
       "annotator_02       2           2             2\n",
       "annotator_04       4           4             4\n",
       "annotator_06       1           1             1\n",
       "annotator_07       1           1             1\n",
       "annotator_08       3           3             3\n",
       "annotator_11       1           1             1\n",
       "annotator_14       1           1             1\n",
       "annotator_18       3           3             3\n",
       "annotator_20       1           1             1\n",
       "annotator_22       4           4             4"
      ]
     },
     "execution_count": 28,
     "metadata": {},
     "output_type": "execute_result"
    }
   ],
   "source": [
    "# dataframe that shows where cant_solve or corrupt_data are used\n",
    "no_data_df = new_df[(new_df['Cant Solve'] == True) | (new_df['Corrupt Data'] == True)]\n",
    "no_data_df.groupby('Annotators').count()"
   ]
  },
  {
   "cell_type": "code",
   "execution_count": 29,
   "id": "c54ec4a0",
   "metadata": {},
   "outputs": [
    {
     "data": {
      "text/plain": [
       "Cant Solve\n",
       "True    17\n",
       "Name: Annotators, dtype: int64"
      ]
     },
     "execution_count": 29,
     "metadata": {},
     "output_type": "execute_result"
    }
   ],
   "source": [
    "number_of_cant_solve = no_data_df[no_data_df['Cant Solve'] == True].groupby('Cant Solve').count()['Annotators']\n",
    "number_of_cant_solve"
   ]
  },
  {
   "cell_type": "code",
   "execution_count": 30,
   "id": "7698babb",
   "metadata": {},
   "outputs": [
    {
     "data": {
      "text/plain": [
       "Corrupt Data\n",
       "True    4\n",
       "Name: Annotators, dtype: int64"
      ]
     },
     "execution_count": 30,
     "metadata": {},
     "output_type": "execute_result"
    }
   ],
   "source": [
    "number_of_corrupt_data = no_data_df[no_data_df['Corrupt Data'] == True].groupby('Corrupt Data').count()['Annotators']\n",
    "number_of_corrupt_data"
   ]
  },
  {
   "cell_type": "markdown",
   "id": "c6328f2e",
   "metadata": {},
   "source": [
    "cant_solve was used 17 times while corrupt_data was used 4 times"
   ]
  },
  {
   "cell_type": "markdown",
   "id": "1513ccc5",
   "metadata": {},
   "source": [
    "# Reference Data"
   ]
  },
  {
   "cell_type": "code",
   "execution_count": 31,
   "id": "8d32affe",
   "metadata": {},
   "outputs": [],
   "source": [
    "# read the reference data. In the pd.read_json method, please insert the reference file name.\n",
    "reference_data = pd.read_json('references.json')"
   ]
  },
  {
   "cell_type": "code",
   "execution_count": 32,
   "id": "9920c079",
   "metadata": {},
   "outputs": [
    {
     "data": {
      "text/html": [
       "<div>\n",
       "<style scoped>\n",
       "    .dataframe tbody tr th:only-of-type {\n",
       "        vertical-align: middle;\n",
       "    }\n",
       "\n",
       "    .dataframe tbody tr th {\n",
       "        vertical-align: top;\n",
       "    }\n",
       "\n",
       "    .dataframe thead th {\n",
       "        text-align: right;\n",
       "    }\n",
       "</style>\n",
       "<table border=\"1\" class=\"dataframe\">\n",
       "  <thead>\n",
       "    <tr style=\"text-align: right;\">\n",
       "      <th></th>\n",
       "      <th>img_4686</th>\n",
       "      <th>img_8607</th>\n",
       "      <th>img_5541</th>\n",
       "      <th>img_3218</th>\n",
       "      <th>img_3247</th>\n",
       "      <th>img_1876</th>\n",
       "      <th>img_6228</th>\n",
       "      <th>img_4653</th>\n",
       "      <th>img_5488</th>\n",
       "      <th>img_8591</th>\n",
       "      <th>...</th>\n",
       "      <th>img_3563</th>\n",
       "      <th>img_7393</th>\n",
       "      <th>img_7061</th>\n",
       "      <th>img_6877</th>\n",
       "      <th>img_2192</th>\n",
       "      <th>img_5282</th>\n",
       "      <th>img_0628</th>\n",
       "      <th>img_7736</th>\n",
       "      <th>img_1042</th>\n",
       "      <th>img_2866</th>\n",
       "    </tr>\n",
       "  </thead>\n",
       "  <tbody>\n",
       "    <tr>\n",
       "      <th>is_bicycle</th>\n",
       "      <td>False</td>\n",
       "      <td>True</td>\n",
       "      <td>False</td>\n",
       "      <td>False</td>\n",
       "      <td>True</td>\n",
       "      <td>True</td>\n",
       "      <td>True</td>\n",
       "      <td>False</td>\n",
       "      <td>True</td>\n",
       "      <td>False</td>\n",
       "      <td>...</td>\n",
       "      <td>True</td>\n",
       "      <td>False</td>\n",
       "      <td>False</td>\n",
       "      <td>True</td>\n",
       "      <td>True</td>\n",
       "      <td>True</td>\n",
       "      <td>True</td>\n",
       "      <td>True</td>\n",
       "      <td>False</td>\n",
       "      <td>True</td>\n",
       "    </tr>\n",
       "  </tbody>\n",
       "</table>\n",
       "<p>1 rows × 9087 columns</p>\n",
       "</div>"
      ],
      "text/plain": [
       "            img_4686  img_8607  img_5541  img_3218  img_3247  img_1876  \\\n",
       "is_bicycle     False      True     False     False      True      True   \n",
       "\n",
       "            img_6228  img_4653  img_5488  img_8591  ...  img_3563  img_7393  \\\n",
       "is_bicycle      True     False      True     False  ...      True     False   \n",
       "\n",
       "            img_7061  img_6877  img_2192  img_5282  img_0628  img_7736  \\\n",
       "is_bicycle     False      True      True      True      True      True   \n",
       "\n",
       "            img_1042  img_2866  \n",
       "is_bicycle     False      True  \n",
       "\n",
       "[1 rows x 9087 columns]"
      ]
     },
     "execution_count": 32,
     "metadata": {},
     "output_type": "execute_result"
    }
   ],
   "source": [
    "reference_data"
   ]
  },
  {
   "cell_type": "code",
   "execution_count": 33,
   "id": "d7964e58",
   "metadata": {},
   "outputs": [],
   "source": [
    "reference_answers = []\n",
    "for key in reference_data:\n",
    "    reference_answers.append(reference_data[key]['is_bicycle'])"
   ]
  },
  {
   "cell_type": "code",
   "execution_count": 34,
   "id": "222ff06f",
   "metadata": {},
   "outputs": [],
   "source": [
    "number_of_false = 0\n",
    "number_of_true = 0\n",
    "for i in reference_answers:\n",
    "    if i == False:\n",
    "        number_of_false = number_of_false + 1\n",
    "    elif i == True:\n",
    "        number_of_true = number_of_true + 1"
   ]
  },
  {
   "cell_type": "code",
   "execution_count": 35,
   "id": "5c94fdb3",
   "metadata": {},
   "outputs": [
    {
     "data": {
      "text/plain": [
       "4501"
      ]
     },
     "execution_count": 35,
     "metadata": {},
     "output_type": "execute_result"
    }
   ],
   "source": [
    "number_of_false"
   ]
  },
  {
   "cell_type": "code",
   "execution_count": 36,
   "id": "6349416f",
   "metadata": {},
   "outputs": [
    {
     "data": {
      "text/plain": [
       "4586"
      ]
     },
     "execution_count": 36,
     "metadata": {},
     "output_type": "execute_result"
    }
   ],
   "source": [
    "number_of_true"
   ]
  },
  {
   "cell_type": "markdown",
   "id": "5251839b",
   "metadata": {},
   "source": [
    "Yes the reference set is balanced as seen from the number_of_false and number_of_true values"
   ]
  },
  {
   "cell_type": "code",
   "execution_count": 37,
   "id": "eca8b3a5",
   "metadata": {},
   "outputs": [],
   "source": [
    "for i in range(0, len(reference_answers)):\n",
    "    if reference_answers[i] == True:\n",
    "        reference_answers[i] = 1\n",
    "    elif reference_answers[i] == False:\n",
    "        reference_answers[i] = 0"
   ]
  },
  {
   "cell_type": "code",
   "execution_count": 38,
   "id": "92960cc3",
   "metadata": {},
   "outputs": [
    {
     "data": {
      "image/png": "[encoded data removed]",
      "text/plain": [
       "<Figure size 504x504 with 1 Axes>"
      ]
     },
     "metadata": {
      "needs_background": "light"
     },
     "output_type": "display_data"
    }
   ],
   "source": [
    "plt.figure(figsize = (7, 7))\n",
    "false_color = 'red'\n",
    "true_color = 'blue'\n",
    "index, bins, patches = plt.hist(reference_answers, color = true_color)\n",
    "patches[0].set_fc(false_color)\n",
    "handles = [Rectangle((0,0),1,1,color=c,ec=\"k\") for c in [false_color,true_color]]\n",
    "labels= [\"False\",\"True\"]\n",
    "plt.legend(handles, labels)\n",
    "plt.yticks(np.arange(0, 6000, 1000))\n",
    "plt.ylabel('Count')\n",
    "plt.tick_params(axis='x', which='both', bottom=False, top=False,labelbottom=False)\n",
    "plt.title('Histogram showing the number of False and True answers in the reference Data set')\n",
    "plt.show()"
   ]
  },
  {
   "cell_type": "code",
   "execution_count": 39,
   "id": "d96e8b2e",
   "metadata": {},
   "outputs": [],
   "source": [
    "reference_data_answers = reference_data.transpose()['is_bicycle'].to_dict()"
   ]
  },
  {
   "cell_type": "code",
   "execution_count": 40,
   "id": "692649a4",
   "metadata": {},
   "outputs": [],
   "source": [
    "annotators = list(set(list_of_annotators))"
   ]
  },
  {
   "cell_type": "code",
   "execution_count": 41,
   "id": "9ae52387",
   "metadata": {},
   "outputs": [],
   "source": [
    "annotators.sort()"
   ]
  },
  {
   "cell_type": "code",
   "execution_count": 42,
   "id": "ab548327",
   "metadata": {},
   "outputs": [
    {
     "name": "stderr",
     "output_type": "stream",
     "text": [
      "/Users/obinnaisiwekpeni/Desktop/Bicycle-Project-Crowd-Evaluation/codes/utils.py:19: SettingWithCopyWarning: \n",
      "A value is trying to be set on a copy of a slice from a DataFrame.\n",
      "Try using .loc[row_indexer,col_indexer] = value instead\n",
      "\n",
      "See the caveats in the documentation: https://pandas.pydata.org/pandas-docs/stable/user_guide/indexing.html#returning-a-view-versus-a-copy\n",
      "  new_dataframe['Reference'] = new_col\n"
     ]
    }
   ],
   "source": [
    "list_of_dataframes = get_list_of_dataframes(annotators, df, reference_data_answers)"
   ]
  },
  {
   "cell_type": "code",
   "execution_count": 43,
   "id": "4e539f9a",
   "metadata": {},
   "outputs": [
    {
     "data": {
      "text/html": [
       "<div>\n",
       "<style scoped>\n",
       "    .dataframe tbody tr th:only-of-type {\n",
       "        vertical-align: middle;\n",
       "    }\n",
       "\n",
       "    .dataframe tbody tr th {\n",
       "        vertical-align: top;\n",
       "    }\n",
       "\n",
       "    .dataframe thead th {\n",
       "        text-align: right;\n",
       "    }\n",
       "</style>\n",
       "<table border=\"1\" class=\"dataframe\">\n",
       "  <thead>\n",
       "    <tr style=\"text-align: right;\">\n",
       "      <th></th>\n",
       "      <th>Annotators</th>\n",
       "      <th>Images</th>\n",
       "      <th>Answers</th>\n",
       "      <th>Reference</th>\n",
       "    </tr>\n",
       "  </thead>\n",
       "  <tbody>\n",
       "    <tr>\n",
       "      <th>120</th>\n",
       "      <td>annotator_01</td>\n",
       "      <td>img_0021.jpg</td>\n",
       "      <td>yes</td>\n",
       "      <td>True</td>\n",
       "    </tr>\n",
       "    <tr>\n",
       "      <th>134</th>\n",
       "      <td>annotator_01</td>\n",
       "      <td>img_8259.jpg</td>\n",
       "      <td>yes</td>\n",
       "      <td>True</td>\n",
       "    </tr>\n",
       "    <tr>\n",
       "      <th>159</th>\n",
       "      <td>annotator_01</td>\n",
       "      <td>img_4521.jpg</td>\n",
       "      <td>yes</td>\n",
       "      <td>True</td>\n",
       "    </tr>\n",
       "    <tr>\n",
       "      <th>267</th>\n",
       "      <td>annotator_01</td>\n",
       "      <td>img_3227.jpg</td>\n",
       "      <td>yes</td>\n",
       "      <td>True</td>\n",
       "    </tr>\n",
       "    <tr>\n",
       "      <th>285</th>\n",
       "      <td>annotator_01</td>\n",
       "      <td>img_0286.jpg</td>\n",
       "      <td>no</td>\n",
       "      <td>True</td>\n",
       "    </tr>\n",
       "    <tr>\n",
       "      <th>...</th>\n",
       "      <td>...</td>\n",
       "      <td>...</td>\n",
       "      <td>...</td>\n",
       "      <td>...</td>\n",
       "    </tr>\n",
       "    <tr>\n",
       "      <th>90563</th>\n",
       "      <td>annotator_01</td>\n",
       "      <td>img_7558.jpg</td>\n",
       "      <td>no</td>\n",
       "      <td>False</td>\n",
       "    </tr>\n",
       "    <tr>\n",
       "      <th>90627</th>\n",
       "      <td>annotator_01</td>\n",
       "      <td>img_5082.jpg</td>\n",
       "      <td>yes</td>\n",
       "      <td>True</td>\n",
       "    </tr>\n",
       "    <tr>\n",
       "      <th>90659</th>\n",
       "      <td>annotator_01</td>\n",
       "      <td>img_6568.jpg</td>\n",
       "      <td>no</td>\n",
       "      <td>False</td>\n",
       "    </tr>\n",
       "    <tr>\n",
       "      <th>90692</th>\n",
       "      <td>annotator_01</td>\n",
       "      <td>img_8477.jpg</td>\n",
       "      <td>yes</td>\n",
       "      <td>True</td>\n",
       "    </tr>\n",
       "    <tr>\n",
       "      <th>90808</th>\n",
       "      <td>annotator_01</td>\n",
       "      <td>img_6877.jpg</td>\n",
       "      <td>yes</td>\n",
       "      <td>True</td>\n",
       "    </tr>\n",
       "  </tbody>\n",
       "</table>\n",
       "<p>1280 rows × 4 columns</p>\n",
       "</div>"
      ],
      "text/plain": [
       "         Annotators        Images Answers  Reference\n",
       "120    annotator_01  img_0021.jpg     yes       True\n",
       "134    annotator_01  img_8259.jpg     yes       True\n",
       "159    annotator_01  img_4521.jpg     yes       True\n",
       "267    annotator_01  img_3227.jpg     yes       True\n",
       "285    annotator_01  img_0286.jpg      no       True\n",
       "...             ...           ...     ...        ...\n",
       "90563  annotator_01  img_7558.jpg      no      False\n",
       "90627  annotator_01  img_5082.jpg     yes       True\n",
       "90659  annotator_01  img_6568.jpg      no      False\n",
       "90692  annotator_01  img_8477.jpg     yes       True\n",
       "90808  annotator_01  img_6877.jpg     yes       True\n",
       "\n",
       "[1280 rows x 4 columns]"
      ]
     },
     "execution_count": 43,
     "metadata": {},
     "output_type": "execute_result"
    }
   ],
   "source": [
    "list_of_dataframes[0]"
   ]
  },
  {
   "cell_type": "code",
   "execution_count": 44,
   "id": "5f2d6422",
   "metadata": {},
   "outputs": [],
   "source": [
    "anno_percent_dict = {}   # this is a dictionary of the annotators and the percentage of correct answers they made\n",
    "for dataframe in list_of_dataframes:\n",
    "    number_of_row_data = len(dataframe)\n",
    "    num_of_correct_answers = len(dataframe[(dataframe['Answers'] == 'yes') & (dataframe['Reference'] == True)])+ len(dataframe[(dataframe['Answers'] == 'no') & (dataframe['Reference'] == False)])\n",
    "    percentage_of_correct_answers = (num_of_correct_answers / number_of_row_data) * 100\n",
    "    anno_percent_dict[dataframe['Annotators'].iloc[0]] = percentage_of_correct_answers\n",
    "    "
   ]
  },
  {
   "cell_type": "code",
   "execution_count": 45,
   "id": "ad3d7fb6",
   "metadata": {},
   "outputs": [
    {
     "data": {
      "text/plain": [
       "{'annotator_01': 94.84375,\n",
       " 'annotator_02': 93.48341232227489,\n",
       " 'annotator_03': 92.85714285714286,\n",
       " 'annotator_04': 92.82043295436848,\n",
       " 'annotator_05': 93.6978417266187,\n",
       " 'annotator_06': 92.6550496533633,\n",
       " 'annotator_07': 91.49425287356323,\n",
       " 'annotator_08': 89.9189230533884,\n",
       " 'annotator_09': 93.33333333333333,\n",
       " 'annotator_10': 88.88888888888889,\n",
       " 'annotator_11': 93.62958359229336,\n",
       " 'annotator_12': 92.97906602254429,\n",
       " 'annotator_13': 94.68776490534049,\n",
       " 'annotator_14': 94.66666666666667,\n",
       " 'annotator_15': 94.84231274638634,\n",
       " 'annotator_16': 94.23038925113613,\n",
       " 'annotator_17': 94.20373027259684,\n",
       " 'annotator_18': 93.63636363636364,\n",
       " 'annotator_19': 94.70588235294117,\n",
       " 'annotator_20': 94.82533463924257,\n",
       " 'annotator_21': 94.0,\n",
       " 'annotator_22': 94.21203438395416}"
      ]
     },
     "execution_count": 45,
     "metadata": {},
     "output_type": "execute_result"
    }
   ],
   "source": [
    "anno_percent_dict"
   ]
  },
  {
   "cell_type": "markdown",
   "id": "8dbe1e83",
   "metadata": {},
   "source": [
    "From the dictionary above, it can be observed that all the  annotators had good results with the least having a percentage of accuracy of 88.888 percent. Hence, all the annotators are good annotators"
   ]
  },
  {
   "cell_type": "code",
   "execution_count": 63,
   "id": "ad3416b3",
   "metadata": {},
   "outputs": [],
   "source": [
    "df3 = pd.DataFrame(anno_percent_dict, index=['Percentage']).transpose()"
   ]
  },
  {
   "cell_type": "code",
   "execution_count": 67,
   "id": "3911fa6a",
   "metadata": {},
   "outputs": [],
   "source": [
    "df3.reset_index(inplace=True)"
   ]
  },
  {
   "cell_type": "code",
   "execution_count": 68,
   "id": "aa7b1f8e",
   "metadata": {},
   "outputs": [
    {
     "data": {
      "text/html": [
       "<div>\n",
       "<style scoped>\n",
       "    .dataframe tbody tr th:only-of-type {\n",
       "        vertical-align: middle;\n",
       "    }\n",
       "\n",
       "    .dataframe tbody tr th {\n",
       "        vertical-align: top;\n",
       "    }\n",
       "\n",
       "    .dataframe thead th {\n",
       "        text-align: right;\n",
       "    }\n",
       "</style>\n",
       "<table border=\"1\" class=\"dataframe\">\n",
       "  <thead>\n",
       "    <tr style=\"text-align: right;\">\n",
       "      <th></th>\n",
       "      <th>index</th>\n",
       "      <th>Percentage</th>\n",
       "    </tr>\n",
       "  </thead>\n",
       "  <tbody>\n",
       "    <tr>\n",
       "      <th>0</th>\n",
       "      <td>annotator_01</td>\n",
       "      <td>94.843750</td>\n",
       "    </tr>\n",
       "    <tr>\n",
       "      <th>1</th>\n",
       "      <td>annotator_02</td>\n",
       "      <td>93.483412</td>\n",
       "    </tr>\n",
       "    <tr>\n",
       "      <th>2</th>\n",
       "      <td>annotator_03</td>\n",
       "      <td>92.857143</td>\n",
       "    </tr>\n",
       "    <tr>\n",
       "      <th>3</th>\n",
       "      <td>annotator_04</td>\n",
       "      <td>92.820433</td>\n",
       "    </tr>\n",
       "    <tr>\n",
       "      <th>4</th>\n",
       "      <td>annotator_05</td>\n",
       "      <td>93.697842</td>\n",
       "    </tr>\n",
       "    <tr>\n",
       "      <th>5</th>\n",
       "      <td>annotator_06</td>\n",
       "      <td>92.655050</td>\n",
       "    </tr>\n",
       "    <tr>\n",
       "      <th>6</th>\n",
       "      <td>annotator_07</td>\n",
       "      <td>91.494253</td>\n",
       "    </tr>\n",
       "    <tr>\n",
       "      <th>7</th>\n",
       "      <td>annotator_08</td>\n",
       "      <td>89.918923</td>\n",
       "    </tr>\n",
       "    <tr>\n",
       "      <th>8</th>\n",
       "      <td>annotator_09</td>\n",
       "      <td>93.333333</td>\n",
       "    </tr>\n",
       "    <tr>\n",
       "      <th>9</th>\n",
       "      <td>annotator_10</td>\n",
       "      <td>88.888889</td>\n",
       "    </tr>\n",
       "    <tr>\n",
       "      <th>10</th>\n",
       "      <td>annotator_11</td>\n",
       "      <td>93.629584</td>\n",
       "    </tr>\n",
       "    <tr>\n",
       "      <th>11</th>\n",
       "      <td>annotator_12</td>\n",
       "      <td>92.979066</td>\n",
       "    </tr>\n",
       "    <tr>\n",
       "      <th>12</th>\n",
       "      <td>annotator_13</td>\n",
       "      <td>94.687765</td>\n",
       "    </tr>\n",
       "    <tr>\n",
       "      <th>13</th>\n",
       "      <td>annotator_14</td>\n",
       "      <td>94.666667</td>\n",
       "    </tr>\n",
       "    <tr>\n",
       "      <th>14</th>\n",
       "      <td>annotator_15</td>\n",
       "      <td>94.842313</td>\n",
       "    </tr>\n",
       "    <tr>\n",
       "      <th>15</th>\n",
       "      <td>annotator_16</td>\n",
       "      <td>94.230389</td>\n",
       "    </tr>\n",
       "    <tr>\n",
       "      <th>16</th>\n",
       "      <td>annotator_17</td>\n",
       "      <td>94.203730</td>\n",
       "    </tr>\n",
       "    <tr>\n",
       "      <th>17</th>\n",
       "      <td>annotator_18</td>\n",
       "      <td>93.636364</td>\n",
       "    </tr>\n",
       "    <tr>\n",
       "      <th>18</th>\n",
       "      <td>annotator_19</td>\n",
       "      <td>94.705882</td>\n",
       "    </tr>\n",
       "    <tr>\n",
       "      <th>19</th>\n",
       "      <td>annotator_20</td>\n",
       "      <td>94.825335</td>\n",
       "    </tr>\n",
       "    <tr>\n",
       "      <th>20</th>\n",
       "      <td>annotator_21</td>\n",
       "      <td>94.000000</td>\n",
       "    </tr>\n",
       "    <tr>\n",
       "      <th>21</th>\n",
       "      <td>annotator_22</td>\n",
       "      <td>94.212034</td>\n",
       "    </tr>\n",
       "  </tbody>\n",
       "</table>\n",
       "</div>"
      ],
      "text/plain": [
       "           index  Percentage\n",
       "0   annotator_01   94.843750\n",
       "1   annotator_02   93.483412\n",
       "2   annotator_03   92.857143\n",
       "3   annotator_04   92.820433\n",
       "4   annotator_05   93.697842\n",
       "5   annotator_06   92.655050\n",
       "6   annotator_07   91.494253\n",
       "7   annotator_08   89.918923\n",
       "8   annotator_09   93.333333\n",
       "9   annotator_10   88.888889\n",
       "10  annotator_11   93.629584\n",
       "11  annotator_12   92.979066\n",
       "12  annotator_13   94.687765\n",
       "13  annotator_14   94.666667\n",
       "14  annotator_15   94.842313\n",
       "15  annotator_16   94.230389\n",
       "16  annotator_17   94.203730\n",
       "17  annotator_18   93.636364\n",
       "18  annotator_19   94.705882\n",
       "19  annotator_20   94.825335\n",
       "20  annotator_21   94.000000\n",
       "21  annotator_22   94.212034"
      ]
     },
     "execution_count": 68,
     "metadata": {},
     "output_type": "execute_result"
    }
   ],
   "source": [
    "df3"
   ]
  },
  {
   "cell_type": "code",
   "execution_count": 78,
   "id": "4960db97",
   "metadata": {},
   "outputs": [
    {
     "data": {
      "text/plain": [
       "<AxesSubplot:xlabel='index', ylabel='Percentage'>"
      ]
     },
     "execution_count": 78,
     "metadata": {},
     "output_type": "execute_result"
    },
    {
     "data": {
      "image/png": "[encoded data removed]",
      "text/plain": [
       "<Figure size 2160x2160 with 1 Axes>"
      ]
     },
     "metadata": {
      "needs_background": "light"
     },
     "output_type": "display_data"
    }
   ],
   "source": [
    "plt.figure(figsize=(30, 30))\n",
    "sns.barplot(x='index', y='Percentage', data=df3)"
   ]
  },
  {
   "cell_type": "markdown",
   "id": "34705e1e",
   "metadata": {},
   "source": [
    "The bar plot above is a plot of the annotators and the percentage of correct answers. It can be visualized that all annotators are good annotators"
   ]
  },
  {
   "cell_type": "code",
   "execution_count": null,
   "id": "56a1770d",
   "metadata": {},
   "outputs": [],
   "source": []
  }
 ],
 "metadata": {
  "kernelspec": {
   "display_name": "Python 3",
   "language": "python",
   "name": "python3"
  },
  "language_info": {
   "codemirror_mode": {
    "name": "ipython",
    "version": 3
   },
   "file_extension": ".py",
   "mimetype": "text/x-python",
   "name": "python",
   "nbconvert_exporter": "python",
   "pygments_lexer": "ipython3",
   "version": "3.8.8"
  }
 },
 "nbformat": 4,
 "nbformat_minor": 5
}
